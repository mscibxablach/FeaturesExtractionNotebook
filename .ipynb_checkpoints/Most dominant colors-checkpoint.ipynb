{
 "cells": [
  {
   "cell_type": "markdown",
   "metadata": {},
   "source": [
    "## Jupyter declarations"
   ]
  },
  {
   "cell_type": "code",
   "execution_count": 1,
   "metadata": {},
   "outputs": [],
   "source": [
    "%matplotlib inline"
   ]
  },
  {
   "cell_type": "markdown",
   "metadata": {},
   "source": [
    "## Imports"
   ]
  },
  {
   "cell_type": "code",
   "execution_count": 8,
   "metadata": {},
   "outputs": [],
   "source": [
    "import os\n",
    "import cv2\n",
    "import numpy as np\n",
    "import math\n",
    "from matplotlib import pyplot as plt\n",
    "from collections import Counter\n",
    "from sklearn.cluster import KMeans\n",
    "plt.rcParams[\"figure.figsize\"] = (20,10)"
   ]
  },
  {
   "cell_type": "markdown",
   "metadata": {},
   "source": [
    "## Read image"
   ]
  },
  {
   "cell_type": "code",
   "execution_count": 9,
   "metadata": {},
   "outputs": [],
   "source": [
    "def read_image(filename):\n",
    "    return cv2.imread(filename)"
   ]
  },
  {
   "cell_type": "markdown",
   "metadata": {},
   "source": [
    "## Show image"
   ]
  },
  {
   "cell_type": "code",
   "execution_count": 10,
   "metadata": {},
   "outputs": [],
   "source": [
    "def show_image(title, image):\n",
    "    plt.imshow(image)\n",
    "    plt.title(title)\n",
    "    plt.show()"
   ]
  },
  {
   "cell_type": "markdown",
   "metadata": {},
   "source": [
    "## Sklearn RGB histogram"
   ]
  },
  {
   "cell_type": "code",
   "execution_count": 12,
   "metadata": {},
   "outputs": [
    {
     "name": "stdout",
     "output_type": "stream",
     "text": [
      "[[  2.86515956   2.71066533   2.66925828]\n",
      " [169.02071974 169.53271538 169.0736096 ]\n",
      " [ 50.9613089   51.0145355   50.87465768]\n",
      " [225.71437002 224.29359693 224.05989968]\n",
      " [ 24.03995541  24.65969972  23.9780193 ]\n",
      " [ 94.90091232 104.54219463  94.68043588]]\n"
     ]
    }
   ],
   "source": [
    "def sklearn_histogram():\n",
    "    image_path = 'Photos/43.jpg'\n",
    "    image = read_image(image_path)\n",
    "    image_array = np.array(image)\n",
    "    image_vector = image_array.reshape((image_array.shape[0] * image_array.shape[1], 3))\n",
    "    model = KMeans(n_clusters=6)\n",
    "    labels = model.fit_predict(image_vector)\n",
    "    label_counts = Counter(labels)\n",
    "    total_count = sum(label_counts.values())\n",
    "    colors = [int(center) for center in model.cluster_centers_]\n",
    "    print(colors)\n",
    "    \n",
    "sklearn_histogram()\n",
    "    "
   ]
  },
  {
   "cell_type": "code",
   "execution_count": null,
   "metadata": {},
   "outputs": [],
   "source": []
  }
 ],
 "metadata": {
  "kernelspec": {
   "display_name": "myenv",
   "language": "python",
   "name": "myenv"
  },
  "language_info": {
   "codemirror_mode": {
    "name": "ipython",
    "version": 3
   },
   "file_extension": ".py",
   "mimetype": "text/x-python",
   "name": "python",
   "nbconvert_exporter": "python",
   "pygments_lexer": "ipython3",
   "version": "3.6.9"
  }
 },
 "nbformat": 4,
 "nbformat_minor": 2
}
